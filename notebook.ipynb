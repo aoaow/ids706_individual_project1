{
 "cells": [
  {
   "cell_type": "code",
   "execution_count": null,
   "metadata": {},
   "outputs": [],
   "source": [
    "import polars as pl\n",
    "from sklearn.datasets import load_breast_cancer\n",
    "data = load_breast_cancer()\n",
    "X = pl.DataFrame(data.data, columns=data.feature_names)\n",
    "y = data.target"
   ]
  },
  {
   "cell_type": "code",
   "execution_count": null,
   "metadata": {},
   "outputs": [],
   "source": [
    "mean_A = X['worst radius'].mean()\n",
    "median_A = X['worst radius'].median()\n",
    "std_A = X['worst radius'].std()\n",
    "\n",
    "print(f\"Mean of A: {mean_A}\")\n",
    "print(f\"Median of A: {median_A}\")\n",
    "print(f\"Standard Deviation of A: {std_A}\")"
   ]
  }
 ],
 "metadata": {
  "language_info": {
   "name": "python"
  }
 },
 "nbformat": 4,
 "nbformat_minor": 2
}
